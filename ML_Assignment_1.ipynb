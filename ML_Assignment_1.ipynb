{
 "cells": [
  {
   "cell_type": "markdown",
   "id": "a49d122e",
   "metadata": {},
   "source": [
    "# Machine Learning Assignment 1 - Lavanya Lakshmana Perumal (138485)"
   ]
  },
  {
   "cell_type": "markdown",
   "id": "b0c3f6a6",
   "metadata": {},
   "source": [
    "Importing the packages and uploaded the dataset and splited x and y value."
   ]
  },
  {
   "cell_type": "code",
   "execution_count": 230,
   "id": "3390fcb5",
   "metadata": {},
   "outputs": [],
   "source": [
    "import pandas as pd\n",
    "import numpy as np \n",
    "import seaborn as sns\n",
    "from matplotlib import pyplot as plt\n",
    "import sklearn\n",
    "from sklearn.model_selection import train_test_split\n",
    "from sklearn.neighbors import KNeighborsClassifier\n",
    "from sklearn.metrics import accuracy_score,classification_report\n",
    "from sklearn.metrics import confusion_matrix\n",
    "from sklearn.preprocessing import StandardScaler\n",
    "from sklearn import metrics\n",
    "from sklearn.model_selection import KFold\n",
    "from sklearn.model_selection import cross_val_score\n",
    "from sklearn.model_selection import LeaveOneOut\n",
    "\n",
    "# print(sklearn.__version__)\n",
    "\n",
    "df = pd.read_csv(\"/Users/lavanyalakshmanaperumal/Downloads/diabetes.csv\")\n",
    "\n",
    "x=df.drop(columns=[\"Outcome\"],axis=1)\n",
    "y=df[\"Outcome\"]"
   ]
  },
  {
   "cell_type": "markdown",
   "id": "99b68bf9",
   "metadata": {},
   "source": [
    "Scaled the data by writing a class for standard scaler and transformed the data"
   ]
  },
  {
   "cell_type": "code",
   "execution_count": 231,
   "id": "14b0cfd0",
   "metadata": {},
   "outputs": [],
   "source": [
    "# Scale data using standard scaler\n",
    "class StandardScaler:\n",
    "    def _init_(self):\n",
    "        self.mean_ = None\n",
    "        self.std_ = None\n",
    "\n",
    "    def fit(self, x):\n",
    "        self.mean_ = np.mean(x, axis=0)\n",
    "        self.std_ = np.std(x, axis=0)\n",
    "\n",
    "    def transform(self, X):\n",
    "        return (x - self.mean_) / self.std_\n",
    "\n",
    "scaler = StandardScaler()\n",
    "scaler.fit(x)\n",
    "x_scaled = scaler.transform(x)"
   ]
  },
  {
   "cell_type": "code",
   "execution_count": 232,
   "id": "26cb2554",
   "metadata": {},
   "outputs": [
    {
     "data": {
      "text/plain": [
       "0    1\n",
       "1    0\n",
       "2    1\n",
       "3    0\n",
       "4    1\n",
       "Name: Outcome, dtype: int64"
      ]
     },
     "execution_count": 232,
     "metadata": {},
     "output_type": "execute_result"
    }
   ],
   "source": [
    "y.head()"
   ]
  },
  {
   "cell_type": "code",
   "execution_count": 233,
   "id": "185fc631",
   "metadata": {},
   "outputs": [
    {
     "data": {
      "text/plain": [
       "(768, 8)"
      ]
     },
     "execution_count": 233,
     "metadata": {},
     "output_type": "execute_result"
    }
   ],
   "source": [
    "x_scaled.shape"
   ]
  },
  {
   "cell_type": "code",
   "execution_count": 234,
   "id": "ef764587",
   "metadata": {},
   "outputs": [
    {
     "data": {
      "text/html": [
       "<div>\n",
       "<style scoped>\n",
       "    .dataframe tbody tr th:only-of-type {\n",
       "        vertical-align: middle;\n",
       "    }\n",
       "\n",
       "    .dataframe tbody tr th {\n",
       "        vertical-align: top;\n",
       "    }\n",
       "\n",
       "    .dataframe thead th {\n",
       "        text-align: right;\n",
       "    }\n",
       "</style>\n",
       "<table border=\"1\" class=\"dataframe\">\n",
       "  <thead>\n",
       "    <tr style=\"text-align: right;\">\n",
       "      <th></th>\n",
       "      <th>Pregnancies</th>\n",
       "      <th>Glucose</th>\n",
       "      <th>BloodPressure</th>\n",
       "      <th>SkinThickness</th>\n",
       "      <th>Insulin</th>\n",
       "      <th>BMI</th>\n",
       "      <th>DiabetesPedigreeFunction</th>\n",
       "      <th>Age</th>\n",
       "    </tr>\n",
       "  </thead>\n",
       "  <tbody>\n",
       "    <tr>\n",
       "      <th>0</th>\n",
       "      <td>0.639947</td>\n",
       "      <td>0.848324</td>\n",
       "      <td>0.149641</td>\n",
       "      <td>0.907270</td>\n",
       "      <td>-0.692891</td>\n",
       "      <td>0.204013</td>\n",
       "      <td>0.468492</td>\n",
       "      <td>1.425995</td>\n",
       "    </tr>\n",
       "    <tr>\n",
       "      <th>1</th>\n",
       "      <td>-0.844885</td>\n",
       "      <td>-1.123396</td>\n",
       "      <td>-0.160546</td>\n",
       "      <td>0.530902</td>\n",
       "      <td>-0.692891</td>\n",
       "      <td>-0.684422</td>\n",
       "      <td>-0.365061</td>\n",
       "      <td>-0.190672</td>\n",
       "    </tr>\n",
       "    <tr>\n",
       "      <th>2</th>\n",
       "      <td>1.233880</td>\n",
       "      <td>1.943724</td>\n",
       "      <td>-0.263941</td>\n",
       "      <td>-1.288212</td>\n",
       "      <td>-0.692891</td>\n",
       "      <td>-1.103255</td>\n",
       "      <td>0.604397</td>\n",
       "      <td>-0.105584</td>\n",
       "    </tr>\n",
       "    <tr>\n",
       "      <th>3</th>\n",
       "      <td>-0.844885</td>\n",
       "      <td>-0.998208</td>\n",
       "      <td>-0.160546</td>\n",
       "      <td>0.154533</td>\n",
       "      <td>0.123302</td>\n",
       "      <td>-0.494043</td>\n",
       "      <td>-0.920763</td>\n",
       "      <td>-1.041549</td>\n",
       "    </tr>\n",
       "    <tr>\n",
       "      <th>4</th>\n",
       "      <td>-1.141852</td>\n",
       "      <td>0.504055</td>\n",
       "      <td>-1.504687</td>\n",
       "      <td>0.907270</td>\n",
       "      <td>0.765836</td>\n",
       "      <td>1.409746</td>\n",
       "      <td>5.484909</td>\n",
       "      <td>-0.020496</td>\n",
       "    </tr>\n",
       "  </tbody>\n",
       "</table>\n",
       "</div>"
      ],
      "text/plain": [
       "   Pregnancies   Glucose  BloodPressure  SkinThickness   Insulin       BMI  \\\n",
       "0     0.639947  0.848324       0.149641       0.907270 -0.692891  0.204013   \n",
       "1    -0.844885 -1.123396      -0.160546       0.530902 -0.692891 -0.684422   \n",
       "2     1.233880  1.943724      -0.263941      -1.288212 -0.692891 -1.103255   \n",
       "3    -0.844885 -0.998208      -0.160546       0.154533  0.123302 -0.494043   \n",
       "4    -1.141852  0.504055      -1.504687       0.907270  0.765836  1.409746   \n",
       "\n",
       "   DiabetesPedigreeFunction       Age  \n",
       "0                  0.468492  1.425995  \n",
       "1                 -0.365061 -0.190672  \n",
       "2                  0.604397 -0.105584  \n",
       "3                 -0.920763 -1.041549  \n",
       "4                  5.484909 -0.020496  "
      ]
     },
     "execution_count": 234,
     "metadata": {},
     "output_type": "execute_result"
    }
   ],
   "source": [
    "x_scaled.head()"
   ]
  },
  {
   "cell_type": "markdown",
   "id": "bd090260",
   "metadata": {},
   "source": [
    "Splitted the dataset into training and testing"
   ]
  },
  {
   "cell_type": "code",
   "execution_count": 235,
   "id": "534dd030",
   "metadata": {},
   "outputs": [
    {
     "name": "stdout",
     "output_type": "stream",
     "text": [
      "X Train [[ 1.23388019 -1.12339636 -0.729221   ... -0.96364429 -1.01438629\n",
      "   0.74529338]\n",
      " [-1.14185152  0.31627232 -3.57259724 ...  1.42243753 -0.60969039\n",
      "  -0.61611067]\n",
      " [-0.25095213  1.72464386  0.87340925 ...  0.165937    2.06009452\n",
      "   1.59617091]\n",
      " ...\n",
      " [ 0.63994726 -0.90431634  1.18359575 ... -1.53478089 -0.85734012\n",
      "  -0.44593516]\n",
      " [-0.25095213  0.28497518 -0.26394125 ... -1.1286393  -0.47680517\n",
      "  -0.95646168]\n",
      " [ 0.63994726 -0.59134489  1.08020025 ...  0.47054319  0.61043756\n",
      "  -0.44593516]] X Test [[ 2.71871250e+00  1.59786597e-01  1.08020025e+00 ...  1.44782138e+00\n",
      "   3.35606756e-01  7.45293379e-01]\n",
      " [-8.44885053e-01 -1.15469351e+00 -2.63941247e-01 ...  6.22846281e-01\n",
      "  -2.64653629e-03 -4.45935165e-01]\n",
      " [ 4.60143347e-02  6.58951615e-02  5.63222752e-01 ...  9.41978774e-04\n",
      "  -8.72098593e-02  6.45913543e-02]\n",
      " ...\n",
      " [ 4.60143347e-02 -1.21887711e-01 -3.67336746e-01 ... -2.90972286e-01\n",
      "  -2.77477336e-01 -2.75759658e-01]\n",
      " [ 3.42980797e-01  3.47569469e-01  5.63222752e-01 ... -6.59038097e-01\n",
      "  -8.63380359e-01  3.04266271e+00]\n",
      " [-2.50952128e-01  2.53678033e-01 -2.63941247e-01 ... -7.09805795e-01\n",
      "  -7.63716443e-01 -4.45935165e-01]] Y Train 194    0\n",
      "78     1\n",
      "588    1\n",
      "64     1\n",
      "744    0\n",
      "      ..\n",
      "381    0\n",
      "580    1\n",
      "33     0\n",
      "686    0\n",
      "410    0\n",
      "Name: Outcome, Length: 153, dtype: int64 Y Test 72     1\n",
      "554    0\n",
      "91     0\n",
      "182    0\n",
      "619    1\n",
      "      ..\n",
      "499    0\n",
      "679    0\n",
      "444    1\n",
      "123    0\n",
      "419    1\n",
      "Name: Outcome, Length: 615, dtype: int64\n"
     ]
    }
   ],
   "source": [
    "x_train,x_test,y_train,y_test=train_test_split(scaled_x,y, train_size=0.2,random_state=555)\n",
    "\n",
    "print(\"X Train\",x_train,\"X Test\",x_test,\"Y Train\",y_train,\"Y Test\",y_test)"
   ]
  },
  {
   "cell_type": "markdown",
   "id": "081d7639",
   "metadata": {},
   "source": [
    "Determined the K value, and create a visualization of the accuracy and reported the best K\n",
    "value"
   ]
  },
  {
   "cell_type": "code",
   "execution_count": 236,
   "id": "e93495ba",
   "metadata": {},
   "outputs": [
    {
     "name": "stdout",
     "output_type": "stream",
     "text": [
      "Accuracy of model at K= 1  is 0.6878048780487804\n",
      "Accuracy of model at K= 2  is 0.7121951219512195\n",
      "Accuracy of model at K= 3  is 0.7203252032520325\n",
      "Accuracy of model at K= 4  is 0.7268292682926829\n",
      "Accuracy of model at K= 5  is 0.7252032520325203\n",
      "Accuracy of model at K= 6  is 0.7447154471544716\n",
      "Accuracy of model at K= 7  is 0.7284552845528456\n",
      "Accuracy of model at K= 8  is 0.7479674796747967\n",
      "Accuracy of model at K= 9  is 0.7317073170731707\n",
      "Accuracy of model at K= 10  is 0.7463414634146341\n",
      "Accuracy of model at K= 11  is 0.7430894308943089\n",
      "Accuracy of model at K= 12  is 0.7398373983739838\n",
      "Accuracy of model at K= 13  is 0.7365853658536585\n",
      "Accuracy of model at K= 14  is 0.7495934959349594\n",
      "Accuracy of model at K= 15  is 0.7317073170731707\n",
      "Accuracy of model at K= 16  is 0.734959349593496\n",
      "Accuracy of model at K= 17  is 0.7414634146341463\n",
      "Accuracy of model at K= 18  is 0.734959349593496\n",
      "Accuracy of model at K= 19  is 0.7333333333333333\n",
      "Accuracy of model at K= 20  is 0.7382113821138211\n",
      "Accuracy of model at K= 21  is 0.7447154471544716\n",
      "Accuracy of model at K= 22  is 0.7430894308943089\n",
      "Accuracy of model at K= 23  is 0.7463414634146341\n",
      "Accuracy of model at K= 24  is 0.7447154471544716\n"
     ]
    },
    {
     "data": {
      "image/png": "[encoded data removed]",
      "text/plain": [
       "<Figure size 432x288 with 1 Axes>"
      ]
     },
     "metadata": {
      "needs_background": "light"
     },
     "output_type": "display_data"
    },
    {
     "name": "stdout",
     "output_type": "stream",
     "text": [
      "Best K value is 14\n"
     ]
    }
   ],
   "source": [
    "#K value determination \n",
    "sco = []\n",
    "h=[]\n",
    "best_score = 0\n",
    "best_k = 0\n",
    "for k in range(1,25):\n",
    "    neigh = KNeighborsClassifier(n_neighbors = k).fit(x_train,y_train)\n",
    "    Pred_y = neigh.predict(x_test)\n",
    "    acc = metrics.accuracy_score(y_test, Pred_y)\n",
    "    h.append(k)\n",
    "    sco.append(acc)\n",
    "    print(\"Accuracy of model at K=\",k,\" is\",acc)\n",
    "    if acc > best_score:\n",
    "        best_score = acc\n",
    "        best_k = k\n",
    "    \n",
    "plt.plot(h, sco)\n",
    "plt.xlabel('K')\n",
    "plt.ylabel('Accuracy')\n",
    "plt.title('KNN accuracy')\n",
    "plt.show()\n",
    "\n",
    "print(\"Best K value is\", best_k)"
   ]
  },
  {
   "cell_type": "markdown",
   "id": "8d4232f9",
   "metadata": {},
   "source": [
    "KNN classifier algorithm using 5 fold cross validations and determined the mean, standard deviation, confusion matrix and accuracy."
   ]
  },
  {
   "cell_type": "code",
   "execution_count": 237,
   "id": "fff4cc74",
   "metadata": {},
   "outputs": [
    {
     "name": "stdout",
     "output_type": "stream",
     "text": [
      "Mean is  0.7578558696205755 , Standard deviation is  0.030069794988236098 and Accuracy is  [0.75974026 0.72077922 0.75974026 0.81045752 0.73856209]\n",
      "Confusion Matrix is  [[363  46]\n",
      " [108  98]]\n"
     ]
    }
   ],
   "source": [
    "neigh = KNeighborsClassifier(n_neighbors = 14).fit(x_train,y_train)\n",
    "Pred_y = neigh.predict(x_test)\n",
    "\n",
    "scores = cross_val_score(neigh, x, y, cv=5, scoring='accuracy')\n",
    "\n",
    "y_pred = neigh.predict(x_test)\n",
    "conf_mat = confusion_matrix(y_test,y_pred)\n",
    "\n",
    "print(\"Mean is \",scores.mean(),\", Standard deviation is \",scores.std(),\"and Accuracy is \",scores)\n",
    "print(\"Confusion Matrix is \",conf_mat)"
   ]
  },
  {
   "cell_type": "markdown",
   "id": "30235b53",
   "metadata": {},
   "source": [
    "\n",
    " The accuracy of your KNN model Mean accuracy is 0.7578558696205755 whereas cv accuracy is [0.75974026 0.72077922 0.75974026 0.81045752 0.73856209]\n"
   ]
  },
  {
   "cell_type": "markdown",
   "id": "13e7fd04",
   "metadata": {},
   "source": [
    "GaussianNB classifier algorithm using 5 fold cross validations and determined the mean, standard deviation, confusion matrix and accuracy."
   ]
  },
  {
   "cell_type": "code",
   "execution_count": 238,
   "id": "ddffeda7",
   "metadata": {},
   "outputs": [
    {
     "name": "stdout",
     "output_type": "stream",
     "text": [
      "Mean is  0.7513368983957219 , Standard deviation is  0.018601807594185577 and Accuracy is  [0.75324675 0.72727273 0.74675325 0.78431373 0.74509804]\n",
      "Confusion Matrix is  [[335  74]\n",
      " [ 73 133]]\n"
     ]
    }
   ],
   "source": [
    "from sklearn.naive_bayes import GaussianNB\n",
    "\n",
    "gnb = GaussianNB()\n",
    "gnb.fit(x_train, y_train)\n",
    "\n",
    "score = cross_val_score(gnb, x, y, cv=5, scoring='accuracy')\n",
    "\n",
    "y_pred = gnb.predict(x_test)\n",
    "cm = confusion_matrix(y_test, y_pred)\n",
    "\n",
    "print(\"Mean is \",score.mean(),\", Standard deviation is \",score.std(),\"and Accuracy is \",score)\n",
    "print(\"Confusion Matrix is \",cm)"
   ]
  },
  {
   "cell_type": "markdown",
   "id": "b1987d7f",
   "metadata": {},
   "source": [
    "BernoulliNB classifier algorithm using 5 fold cross validations and determined the mean, standard deviation, confusion matrix and accuracy."
   ]
  },
  {
   "cell_type": "code",
   "execution_count": 239,
   "id": "524322a4",
   "metadata": {},
   "outputs": [
    {
     "name": "stdout",
     "output_type": "stream",
     "text": [
      "Mean is  0.6471437059672354 , Standard deviation is  0.00822738107853071 [[297 112]\n",
      " [ 75 131]] and Accuracy is  [0.64935065 0.64935065 0.63636364 0.66013072 0.64052288]\n",
      "Confusion Matrix is  [[335  74]\n",
      " [ 73 133]]\n"
     ]
    }
   ],
   "source": [
    "from sklearn.naive_bayes import BernoulliNB\n",
    "\n",
    "bnb = BernoulliNB(binarize=0.0)\n",
    "bnb.fit(x_train, y_train)\n",
    "scored = cross_val_score(bnb, x, y, cv=5, scoring='accuracy')\n",
    "\n",
    "y_pred = bnb.predict(x_test)\n",
    "c = confusion_matrix(y_test, y_pred)\n",
    "\n",
    "print(\"Mean is \",scored.mean(),\", Standard deviation is \",scored.std(),c,\"and Accuracy is \",scored)\n",
    "print(\"Confusion Matrix is \",cm)\n"
   ]
  },
  {
   "cell_type": "markdown",
   "id": "b61dca83",
   "metadata": {},
   "source": [
    "MultinomialNB classifier algorithm using 5 fold cross validations and determined the mean, standard deviation, confusion matrix and accuracy."
   ]
  },
  {
   "cell_type": "code",
   "execution_count": 240,
   "id": "9232e7c9",
   "metadata": {},
   "outputs": [
    {
     "name": "stdout",
     "output_type": "stream",
     "text": [
      "Mean is  0.5937017231134878 and Standard deviation is  0.03474118413561096 and Accuracy is  [0.61688312 0.58441558 0.61688312 0.62091503 0.52941176]\n"
     ]
    }
   ],
   "source": [
    "from sklearn.naive_bayes import MultinomialNB\n",
    "\n",
    "mnb = MultinomialNB()\n",
    "\n",
    "MultinomialNB(alpha=1.0, class_prior=None, fit_prior=True)\n",
    "\n",
    "scord = cross_val_score(mnb, x, y, cv=5, scoring='accuracy')\n",
    "\n",
    "print(\"Mean is \",scord.mean(),\"and Standard deviation is \",scord.std(),\"and Accuracy is \",scord)\n"
   ]
  },
  {
   "cell_type": "markdown",
   "id": "d01bc982",
   "metadata": {},
   "source": [
    "\n",
    "GaussianNB Mean accuracy is 0.7513368983957219 where as cv accuracy [0.75324675 0.72727273 0.74675325 0.78431373 0.74509804]\n",
    "BernoulliNB Mean accuracy is 0.6471437059672354 where as cv accuracy [0.64935065 0.64935065 0.63636364 0.66013072 0.64052288]\n",
    "MultinomialNB Mean accuracy is 0.5937017231134878 where as cv accuracy [0.61688312 0.58441558 0.61688312 0.62091503 0.52941176]\n",
    "\n",
    "Here GaussianNB provides the best accuracy for our dataset.\n"
   ]
  },
  {
   "cell_type": "markdown",
   "id": "3526a020",
   "metadata": {},
   "source": [
    "KNN classifier algorithm using leave-one-out cross validation and determined the mean, standard deviation and accuracy."
   ]
  },
  {
   "cell_type": "code",
   "execution_count": 241,
   "id": "4547678e",
   "metadata": {},
   "outputs": [
    {
     "name": "stdout",
     "output_type": "stream",
     "text": [
      "Mean is  0.7278645833333334 and Standard deviation is  0.4450592451149919 and Accuracy is  [0. 1. 1. 1. 1. 0. 0. 0. 1. 0. 1. 1. 1. 1. 1. 0. 0. 0. 1. 0. 0. 1. 1. 0.\n",
      " 1. 0. 0. 1. 0. 1. 0. 1. 1. 1. 0. 1. 1. 0. 0. 0. 1. 1. 0. 1. 0. 1. 0. 1.\n",
      " 0. 1. 1. 1. 1. 1. 0. 1. 1. 1. 1. 1. 1. 0. 1. 0. 1. 1. 0. 1. 1. 0. 0. 1.\n",
      " 0. 1. 1. 1. 1. 1. 1. 1. 1. 1. 1. 1. 1. 1. 1. 1. 0. 1. 1. 1. 1. 0. 1. 1.\n",
      " 1. 1. 1. 0. 1. 0. 1. 1. 1. 1. 1. 1. 1. 0. 1. 1. 1. 1. 1. 1. 0. 1. 1. 1.\n",
      " 1. 1. 1. 1. 0. 0. 1. 1. 0. 0. 1. 0. 1. 1. 1. 1. 1. 1. 1. 1. 1. 0. 1. 1.\n",
      " 1. 1. 1. 1. 0. 1. 1. 1. 1. 0. 1. 1. 1. 1. 1. 1. 0. 0. 1. 1. 0. 1. 1. 0.\n",
      " 1. 1. 0. 0. 1. 1. 1. 1. 1. 1. 0. 0. 1. 1. 1. 1. 1. 1. 1. 0. 0. 1. 1. 1.\n",
      " 1. 1. 1. 0. 1. 0. 0. 0. 1. 1. 1. 1. 0. 1. 1. 1. 1. 1. 1. 0. 0. 0. 0. 0.\n",
      " 0. 1. 0. 1. 1. 1. 1. 0. 1. 1. 1. 1. 0. 1. 0. 0. 1. 1. 1. 1. 1. 1. 1. 1.\n",
      " 1. 1. 0. 0. 0. 1. 0. 0. 1. 1. 0. 1. 1. 1. 0. 0. 1. 1. 0. 1. 0. 1. 1. 1.\n",
      " 0. 1. 1. 1. 1. 1. 0. 1. 0. 1. 1. 1. 0. 1. 1. 1. 1. 0. 0. 1. 0. 0. 0. 0.\n",
      " 1. 1. 1. 0. 0. 0. 1. 0. 0. 1. 0. 1. 1. 0. 1. 0. 1. 0. 1. 1. 0. 0. 1. 1.\n",
      " 0. 1. 1. 1. 1. 1. 1. 1. 1. 0. 0. 0. 1. 0. 0. 0. 0. 1. 0. 1. 1. 0. 1. 0.\n",
      " 1. 1. 0. 1. 1. 1. 1. 1. 1. 1. 1. 1. 1. 0. 1. 1. 1. 1. 1. 1. 1. 0. 1. 1.\n",
      " 1. 0. 0. 0. 1. 1. 0. 1. 1. 0. 1. 1. 1. 1. 0. 1. 1. 1. 1. 1. 1. 1. 1. 1.\n",
      " 1. 1. 1. 1. 0. 1. 1. 1. 1. 1. 1. 1. 1. 0. 1. 1. 0. 0. 0. 1. 1. 0. 1. 1.\n",
      " 1. 1. 1. 1. 1. 1. 0. 1. 1. 0. 1. 0. 0. 1. 1. 1. 0. 1. 1. 1. 1. 0. 1. 1.\n",
      " 1. 1. 1. 1. 0. 1. 1. 1. 1. 1. 1. 0. 0. 1. 1. 1. 0. 1. 1. 0. 1. 1. 1. 1.\n",
      " 0. 1. 1. 1. 1. 1. 1. 1. 1. 1. 1. 1. 0. 1. 0. 1. 1. 0. 1. 1. 0. 1. 1. 1.\n",
      " 1. 1. 1. 1. 1. 0. 0. 0. 1. 0. 1. 1. 1. 0. 1. 0. 1. 1. 1. 0. 1. 1. 0. 1.\n",
      " 1. 1. 0. 0. 1. 1. 0. 1. 1. 1. 1. 0. 1. 0. 1. 0. 1. 1. 1. 1. 1. 1. 1. 1.\n",
      " 1. 1. 1. 1. 1. 1. 1. 1. 1. 1. 1. 0. 0. 0. 0. 1. 1. 1. 1. 0. 1. 0. 1. 1.\n",
      " 1. 1. 1. 1. 1. 1. 1. 1. 1. 1. 1. 1. 1. 1. 1. 1. 0. 0. 1. 1. 1. 1. 0. 1.\n",
      " 1. 0. 0. 1. 1. 1. 1. 0. 1. 1. 1. 1. 1. 1. 1. 1. 1. 1. 1. 1. 1. 1. 1. 1.\n",
      " 1. 1. 0. 1. 1. 1. 1. 1. 1. 1. 1. 1. 1. 1. 1. 1. 1. 1. 0. 1. 1. 1. 0. 1.\n",
      " 1. 1. 1. 1. 0. 1. 0. 1. 1. 1. 1. 1. 1. 1. 0. 1. 1. 0. 0. 1. 1. 0. 1. 1.\n",
      " 1. 1. 1. 1. 1. 1. 1. 1. 1. 0. 1. 0. 0. 1. 1. 1. 1. 1. 0. 0. 1. 0. 0. 1.\n",
      " 1. 0. 1. 1. 1. 1. 0. 1. 1. 1. 1. 0. 1. 1. 0. 1. 1. 0. 1. 1. 1. 1. 1. 1.\n",
      " 1. 1. 1. 1. 1. 0. 1. 0. 1. 1. 0. 1. 1. 0. 1. 0. 0. 1. 1. 0. 1. 0. 1. 1.\n",
      " 1. 1. 0. 1. 1. 0. 0. 1. 0. 1. 0. 0. 1. 1. 1. 1. 1. 1. 1. 1. 1. 1. 1. 1.\n",
      " 0. 1. 1. 1. 1. 0. 0. 1. 1. 1. 1. 0. 1. 1. 1. 1. 1. 1. 1. 0. 1. 1. 1. 1.]\n"
     ]
    }
   ],
   "source": [
    "# Leave-One-Out for KNN Algorithm\n",
    "c = LeaveOneOut()\n",
    "neigh = KNeighborsClassifier(n_neighbors = 7).fit(x_train,y_train)\n",
    "Pred_y = neigh.predict(x_test)\n",
    "\n",
    "scores = cross_val_score(neigh, x, y, cv=c, scoring='accuracy')\n",
    "\n",
    "y_pred = neigh.predict(x_test)\n",
    "conf_mat = confusion_matrix(y_test,y_pred)\n",
    "\n",
    "print(\"Mean is \",scores.mean(),\"and Standard deviation is \",scores.std(),\"and Accuracy is \",scores)\n"
   ]
  },
  {
   "cell_type": "markdown",
   "id": "85497d60",
   "metadata": {},
   "source": [
    "GaussianNB classifier algorithm using leave-one-out cross validation and determined the mean, standard deviation and accuracy."
   ]
  },
  {
   "cell_type": "code",
   "execution_count": 242,
   "id": "f9ff8575",
   "metadata": {},
   "outputs": [
    {
     "name": "stdout",
     "output_type": "stream",
     "text": [
      "Mean is  0.75390625 and Standard deviation is  0.4307338113161509 and Accuracy is  [1. 1. 1. 1. 1. 1. 0. 0. 1. 0. 1. 1. 0. 1. 1. 0. 1. 0. 1. 0. 0. 1. 1. 0.\n",
      " 1. 0. 1. 1. 0. 1. 1. 1. 1. 1. 1. 1. 0. 0. 0. 1. 0. 0. 1. 1. 0. 1. 1. 1.\n",
      " 0. 1. 1. 1. 1. 1. 0. 1. 1. 0. 0. 1. 1. 0. 1. 1. 0. 1. 0. 0. 1. 1. 0. 1.\n",
      " 1. 1. 1. 1. 1. 1. 0. 1. 1. 1. 1. 1. 1. 1. 0. 1. 1. 1. 1. 1. 1. 0. 1. 0.\n",
      " 1. 1. 1. 1. 1. 1. 1. 1. 1. 1. 1. 1. 1. 0. 1. 1. 1. 1. 1. 1. 0. 1. 1. 1.\n",
      " 1. 1. 1. 1. 0. 0. 1. 1. 0. 0. 1. 1. 1. 1. 1. 1. 1. 1. 1. 1. 1. 1. 1. 0.\n",
      " 0. 1. 1. 0. 0. 1. 1. 1. 1. 0. 1. 1. 1. 1. 1. 1. 1. 1. 1. 1. 0. 0. 1. 1.\n",
      " 1. 1. 0. 0. 1. 1. 1. 1. 1. 1. 0. 1. 1. 1. 1. 1. 1. 1. 1. 1. 0. 0. 1. 0.\n",
      " 1. 1. 1. 1. 1. 0. 0. 1. 1. 1. 1. 1. 1. 1. 1. 1. 1. 1. 1. 0. 0. 0. 0. 1.\n",
      " 0. 1. 0. 0. 1. 1. 1. 0. 1. 1. 1. 1. 0. 1. 0. 1. 1. 1. 1. 1. 1. 1. 1. 1.\n",
      " 1. 1. 0. 1. 1. 1. 1. 0. 0. 1. 1. 1. 1. 1. 1. 0. 1. 1. 0. 1. 0. 1. 1. 1.\n",
      " 0. 1. 1. 0. 1. 0. 1. 1. 1. 1. 0. 1. 0. 1. 1. 1. 0. 0. 1. 1. 0. 1. 0. 1.\n",
      " 1. 1. 1. 0. 1. 0. 1. 0. 1. 1. 1. 1. 1. 0. 1. 0. 1. 1. 1. 1. 1. 0. 1. 1.\n",
      " 0. 1. 1. 1. 1. 1. 1. 1. 1. 0. 0. 1. 1. 1. 0. 0. 0. 1. 0. 1. 1. 1. 1. 0.\n",
      " 0. 0. 1. 1. 1. 1. 1. 1. 1. 0. 1. 1. 1. 0. 1. 1. 1. 1. 1. 1. 0. 1. 0. 1.\n",
      " 1. 0. 0. 1. 0. 1. 0. 1. 1. 0. 1. 1. 1. 1. 1. 1. 1. 1. 1. 0. 1. 1. 1. 1.\n",
      " 1. 1. 0. 1. 1. 1. 1. 1. 0. 1. 1. 0. 1. 0. 1. 1. 0. 1. 0. 1. 1. 1. 0. 1.\n",
      " 1. 1. 1. 1. 0. 1. 0. 1. 1. 1. 1. 0. 1. 1. 1. 1. 1. 1. 1. 1. 1. 0. 1. 1.\n",
      " 1. 1. 1. 1. 0. 1. 1. 1. 1. 1. 1. 0. 0. 1. 1. 1. 0. 1. 1. 0. 1. 0. 1. 1.\n",
      " 1. 1. 1. 0. 1. 1. 1. 1. 0. 1. 1. 1. 1. 0. 1. 1. 1. 1. 1. 1. 0. 1. 1. 1.\n",
      " 1. 1. 1. 1. 1. 1. 0. 0. 1. 0. 1. 1. 1. 0. 1. 0. 1. 1. 1. 0. 1. 1. 0. 1.\n",
      " 1. 1. 1. 1. 1. 1. 0. 1. 1. 1. 1. 0. 1. 0. 0. 0. 1. 1. 1. 1. 1. 1. 1. 1.\n",
      " 1. 1. 1. 1. 1. 1. 1. 0. 1. 1. 1. 1. 1. 0. 1. 1. 1. 1. 1. 1. 0. 0. 1. 1.\n",
      " 1. 1. 1. 1. 1. 1. 0. 1. 0. 1. 1. 1. 1. 1. 1. 1. 1. 0. 1. 1. 1. 1. 0. 1.\n",
      " 1. 0. 1. 1. 0. 1. 0. 1. 1. 1. 1. 1. 1. 1. 1. 1. 0. 0. 0. 1. 1. 1. 1. 1.\n",
      " 1. 1. 1. 1. 1. 1. 1. 1. 0. 1. 1. 1. 1. 1. 1. 1. 1. 1. 1. 0. 1. 0. 0. 1.\n",
      " 1. 1. 1. 1. 1. 1. 0. 1. 1. 1. 1. 1. 1. 1. 0. 1. 1. 1. 0. 1. 1. 0. 0. 1.\n",
      " 1. 1. 1. 1. 1. 1. 1. 1. 1. 0. 0. 0. 0. 1. 1. 1. 0. 1. 0. 0. 1. 0. 0. 1.\n",
      " 1. 0. 1. 1. 1. 1. 0. 1. 1. 1. 1. 0. 1. 1. 1. 1. 1. 1. 1. 1. 1. 1. 1. 1.\n",
      " 0. 1. 1. 1. 1. 0. 1. 0. 1. 1. 0. 1. 1. 0. 0. 1. 1. 1. 1. 1. 1. 1. 1. 0.\n",
      " 1. 1. 0. 1. 1. 1. 1. 1. 1. 1. 0. 0. 1. 1. 1. 1. 1. 1. 1. 0. 1. 1. 1. 1.\n",
      " 0. 0. 1. 1. 1. 0. 0. 1. 1. 1. 1. 1. 0. 0. 1. 1. 1. 1. 1. 0. 1. 1. 0. 1.]\n"
     ]
    }
   ],
   "source": [
    "# Leave-One-Out for GaussianNB\n",
    "\n",
    "gnb_score= cross_val_score(gnb, x, y, cv=c)\n",
    "gnb_mean=gnb_score.mean()\n",
    "gnb_std=gnb_score.std()\n",
    "print(\"Mean is \",gnb_mean,\"and Standard deviation is \",gnb_std,\"and Accuracy is \",gnb_score)\n"
   ]
  },
  {
   "cell_type": "markdown",
   "id": "d4ea26ad",
   "metadata": {},
   "source": [
    "\n",
    "After using Leave-One-Out for both KNN and GaussianNB:\n",
    "\n",
    "-KNN model without Leave-One-Out Mean accuracy is 0.7578558696205755\n",
    " KNN model with Leave-One-Out Mean accuracy is 0.7278645833333334\n",
    "\n",
    "-GaussianNB without Leave-One-Out is 0.7513368983957219\n",
    " GaussianNB with Leave-One-Out Mean accuracy is 0.75390625\n",
    " \n",
    "    Here According to KNN Model it gives better accuracy when Leave-One-Out is not used whereas in GaussianNB it gives better accuracy when Leave-One-Out is used."
   ]
  },
  {
   "cell_type": "markdown",
   "id": "ea61f547",
   "metadata": {},
   "source": [
    "Determined KNN or Naive Bayes works best with our data:"
   ]
  },
  {
   "cell_type": "code",
   "execution_count": 243,
   "id": "f4a73cb8",
   "metadata": {},
   "outputs": [
    {
     "name": "stdout",
     "output_type": "stream",
     "text": [
      "KNN accuracy:  0.7252032520325203\n",
      "Naive Bayes accuracy:  0.7609756097560976\n",
      "Naive Bayes model provides better accuracy for our dataset\n"
     ]
    }
   ],
   "source": [
    "from sklearn.metrics import accuracy_score\n",
    "\n",
    "# To Fit KNN model\n",
    "knn = KNeighborsClassifier(n_neighbors=5)\n",
    "knn.fit(x_train, y_train)\n",
    "knn_pred = knn.predict(x_test)\n",
    "knn_accuracy = accuracy_score(y_test, knn_pred)\n",
    "\n",
    "# To Fit Naive Bayes model\n",
    "nb = GaussianNB()\n",
    "nb.fit(x_train, y_train)\n",
    "nb_pred = nb.predict(x_test)\n",
    "nb_accuracy = accuracy_score(y_test, nb_pred)\n",
    "\n",
    "# To Print the accuracy scores\n",
    "print(\"KNN accuracy: \", knn_accuracy)\n",
    "print(\"Naive Bayes accuracy: \", nb_accuracy)\n",
    "\n",
    "if (knn_accuracy>nb_accuracy):\n",
    "    print(\"KNN model provides better accuracy for our dataset\")\n",
    "else:\n",
    "    print(\"Naive Bayes model provides better accuracy for our dataset\")"
   ]
  },
  {
   "cell_type": "markdown",
   "id": "7a41824b",
   "metadata": {},
   "source": [
    "According to the accuracy of the model, and I retrained Naive Bayes classifier with our data"
   ]
  },
  {
   "cell_type": "code",
   "execution_count": 244,
   "id": "d9e7e3b0",
   "metadata": {},
   "outputs": [
    {
     "name": "stdout",
     "output_type": "stream",
     "text": [
      "Accuracy on entire dataset: 0.761\n"
     ]
    }
   ],
   "source": [
    "\n",
    "from sklearn import metrics\n",
    "nb = GaussianNB()\n",
    "nb.fit(x_train, y_train)\n",
    "nb_pred = nb.predict(x_test)\n",
    "\n",
    "accuracy = metrics.accuracy_score(y_test, nb_pred)\n",
    "print(\"Accuracy on entire dataset: {:.3f}\".format(accuracy))"
   ]
  },
  {
   "cell_type": "markdown",
   "id": "e4d9edd5",
   "metadata": {},
   "source": [
    "\n",
    "    Atlast I have selected the GaussianNB because that provides a good accuracy than KNN and the accuracy is 76%."
   ]
  }
 ],
 "metadata": {
  "kernelspec": {
   "display_name": "Python 3 (ipykernel)",
   "language": "python",
   "name": "python3"
  },
  "language_info": {
   "codemirror_mode": {
    "name": "ipython",
    "version": 3
   },
   "file_extension": ".py",
   "mimetype": "text/x-python",
   "name": "python",
   "nbconvert_exporter": "python",
   "pygments_lexer": "ipython3",
   "version": "3.9.12"
  }
 },
 "nbformat": 4,
 "nbformat_minor": 5
}
